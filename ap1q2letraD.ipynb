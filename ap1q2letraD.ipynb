{
  "cells": [
    {
      "metadata": {
        "_uuid": "8f2839f25d086af736a60e9eeb907d3b93b6e0e5",
        "_cell_guid": "b1076dfc-b9ad-4769-8c92-a6c4dae69d19",
        "trusted": true
      },
      "cell_type": "code",
      "source": "# This Python 3 environment comes with many helpful analytics libraries installed\n# It is defined by the kaggle/python docker image: https://github.com/kaggle/docker-python\n# For example, here's several helpful packages to load in \n\nimport numpy as np # linear algebra\nimport pandas as pd # data processing, CSV file I/O (e.g. pd.read_csv)\n\n# Input data files are available in the \"../input/\" directory.\n# For example, running this (by clicking run or pressing Shift+Enter) will list the files in the input directory\n\nimport os\nprint(os.listdir(\"../input\"))\n\n# Any results you write to the current directory are saved as output.",
      "execution_count": null,
      "outputs": []
    },
    {
      "metadata": {
        "_cell_guid": "79c7e3d0-c299-4dcb-8224-4455121ee9b0",
        "_uuid": "d629ff2d2480ee46fbb7e2d37f6b5fab8052498a",
        "trusted": true
      },
      "cell_type": "code",
      "source": "import keras\nfrom keras import layers\nfrom keras import models\nfrom keras.utils import to_categorical\nimport matplotlib.pyplot as plt\nfrom os import listdir, makedirs\nimport numpy as np\nfrom keras.preprocessing.image import ImageDataGenerator\nfrom keras.models import Sequential\nfrom keras.layers import Dense, Flatten, Dropout\nfrom keras import optimizers, regularizers\nfrom keras import losses\nfrom keras.preprocessing import image\nfrom keras.datasets import mnist\n\nimport warnings\nwarnings.filterwarnings('ignore')",
      "execution_count": null,
      "outputs": []
    },
    {
      "metadata": {
        "trusted": true,
        "_uuid": "25971ab46b3871cbec6d5a3fda1bbbd8a488b247"
      },
      "cell_type": "code",
      "source": "data = pd.read_csv(\"../input/number_pic_char.csv\")",
      "execution_count": null,
      "outputs": []
    },
    {
      "metadata": {
        "trusted": true,
        "_uuid": "f02e3700d56249755a6d586bda56b1479a24d031"
      },
      "cell_type": "code",
      "source": "data.head(10)",
      "execution_count": null,
      "outputs": []
    },
    {
      "metadata": {
        "trusted": true,
        "_uuid": "87827476b9597f6d91b5f1764a0a1b2337e74553"
      },
      "cell_type": "code",
      "source": "RESOLUTION = 150\nBATCH_SIZE = 20\n\n#if you need data augmentation processing\n#train_datagen = ImageDataGenerator(\n        #rescale=1./255,\n        #shear_range=0.2,\n        #zoom_range=0.2,\n        #horizontal_flip=True,\n        #validation_split=0.3)\n\ntrain_datagen = ImageDataGenerator(rescale=1./255, validation_split=0.15)\nval_datagen = ImageDataGenerator(rescale=1./255, validation_split=0.15)\n\ntrain_generator = train_datagen.flow_from_directory(\n        \"../input/simpsons_dataset/simpsons_dataset\",\n        classes=['homer_simpson', 'ned_flanders', 'moe_szyslak', 'lisa_simpson', \n                 'bart_simpson', 'marge_simpson', 'krusty_the_clown', \n                 'principal_skinner', 'charles_montgomery_burns', 'milhouse_van_houten'],\n        target_size=(RESOLUTION, RESOLUTION),\n        batch_size=BATCH_SIZE,\n        class_mode='categorical', subset=\"training\")\n\nval_generator = val_datagen.flow_from_directory(\n        \"../input/simpsons_dataset/simpsons_dataset\",\n        classes=['homer_simpson', 'ned_flanders', 'moe_szyslak', 'lisa_simpson', \n                 'bart_simpson', 'marge_simpson', 'krusty_the_clown', \n                 'principal_skinner', 'charles_montgomery_burns', 'milhouse_van_houten'],\n        target_size=(RESOLUTION, RESOLUTION),\n        batch_size=BATCH_SIZE,\n        class_mode='categorical', subset=\"validation\")",
      "execution_count": null,
      "outputs": []
    },
    {
      "metadata": {
        "trusted": true,
        "_uuid": "c867f3d3dac269e081c46134275fff599846ebca"
      },
      "cell_type": "code",
      "source": "model1 = models.Sequential()\nmodel1.add(layers.Conv2D(filters= 100, kernel_size=(5, 5), activation='relu', input_shape=(150, 150, 3))) #(image_height, image_width, image_channels) (not including the batch dimension).\nmodel1.add(layers.Conv2D(filters= 100, kernel_size=(5, 5), activation='relu'))\nmodel1.add(layers.MaxPooling2D((4, 4)))\nmodel1.add(layers.Flatten()) # Output_shape=(None, 3*3*64)\nmodel1.add(layers.Dropout(0.1))\nmodel1.add(layers.Dense(64, activation='relu'))\nmodel1.add(layers.Dense(10, activation='relu'))",
      "execution_count": null,
      "outputs": []
    },
    {
      "metadata": {
        "trusted": true,
        "_uuid": "a301bae29f5732cb37c88ed015242a0de1d3e647"
      },
      "cell_type": "code",
      "source": "model1.summary()",
      "execution_count": null,
      "outputs": []
    },
    {
      "metadata": {
        "trusted": true,
        "_uuid": "553e103a83c60f7589017d9bf4be76f6a7367dc6"
      },
      "cell_type": "code",
      "source": "model1.compile(optimizer=optimizers.RMSprop(lr=0.001, rho=0.9, epsilon=None, decay=0.0)\n, loss='mean_squared_logarithmic_error', metrics=['acc'])",
      "execution_count": null,
      "outputs": []
    },
    {
      "metadata": {
        "trusted": true,
        "_uuid": "e084adfae209638fb8e583aed8afb38dd8dac2af"
      },
      "cell_type": "code",
      "source": "history1 = model1.fit_generator(\n        train_generator,\n        steps_per_epoch=(11745 // BATCH_SIZE),\n        epochs=50,\n        validation_data=val_generator,\n        validation_steps=(2066 // BATCH_SIZE) \n    )",
      "execution_count": null,
      "outputs": []
    },
    {
      "metadata": {
        "trusted": true,
        "_uuid": "fa6e86a3f3791e9395ea162e915524e3e9321ddc"
      },
      "cell_type": "code",
      "source": "acc = history1.history['acc']\nval_acc = history1.history['val_acc']\nloss = history1.history['loss']\nval_loss = history1.history['val_loss']\nepochs = range(1, len(acc) + 1)\nplt.plot(epochs, acc, 'bo', label='Training acc')\nplt.plot(epochs, val_acc, 'b', label='Validation acc')\nplt.title('Training and validation accuracy')\nplt.legend()\nplt.figure()\nplt.plot(epochs, loss, 'bo', label='Training loss')\nplt.plot(epochs, val_loss, 'b', label='Validation loss')\nplt.title('Training and validation loss')\nplt.legend()\nplt.show()",
      "execution_count": null,
      "outputs": []
    },
    {
      "metadata": {
        "trusted": true,
        "_uuid": "d163875e370924b7de0a158a1f9aa42f5a574d93"
      },
      "cell_type": "code",
      "source": "model2 = models.Sequential()\nmodel2.add(layers.Conv2D(filters= 100, kernel_size=(5, 5), activation='relu', input_shape=(150, 150, 3))) #(image_height, image_width, image_channels) (not including the batch dimension).\nmodel2.add(layers.Conv2D(filters= 100, kernel_size=(5, 5), activation='relu'))\nmodel2.add(layers.MaxPooling2D((4, 4)))\nmodel2.add(layers.Flatten()) # Output_shape=(None, 3*3*64)\nmodel2.add(layers.Dropout(0.3))\nmodel2.add(layers.Dense(64, activation='relu'))\nmodel2.add(layers.Dense(10, activation='relu'))",
      "execution_count": null,
      "outputs": []
    },
    {
      "metadata": {
        "trusted": true,
        "_uuid": "249b0c09f55a9d23c4252c070fc680763da0192e"
      },
      "cell_type": "code",
      "source": "model2.summary()",
      "execution_count": null,
      "outputs": []
    },
    {
      "metadata": {
        "trusted": true,
        "_uuid": "29e746fd3cf9b5a9304c84c62635965f273fa8c1"
      },
      "cell_type": "code",
      "source": "model2.compile(optimizer=optimizers.RMSprop(lr=0.001, rho=0.9, epsilon=None, decay=0.0)\n, loss='mean_squared_logarithmic_error', metrics=['acc'])",
      "execution_count": null,
      "outputs": []
    },
    {
      "metadata": {
        "trusted": true,
        "_uuid": "8f98c641064f940f7217354a7fa5a855ce5dd1a9"
      },
      "cell_type": "code",
      "source": "history2 = model2.fit_generator(\n        train_generator,\n        steps_per_epoch=(11745 // BATCH_SIZE),\n        epochs=50,\n        validation_data=val_generator,\n        validation_steps=(2066 // BATCH_SIZE) \n    )",
      "execution_count": null,
      "outputs": []
    },
    {
      "metadata": {
        "trusted": true,
        "_uuid": "593602261357249f093c7c9aaef3413a35af2107"
      },
      "cell_type": "code",
      "source": "acc = history2.history['acc']\nval_acc = history2.history['val_acc']\nloss = history2.history['loss']\nval_loss = history2.history['val_loss']\nepochs = range(1, len(acc) + 1)\nplt.plot(epochs, acc, 'bo', label='Training acc')\nplt.plot(epochs, val_acc, 'b', label='Validation acc')\nplt.title('Training and validation accuracy')\nplt.legend()\nplt.figure()\nplt.plot(epochs, loss, 'bo', label='Training loss')\nplt.plot(epochs, val_loss, 'b', label='Validation loss')\nplt.title('Training and validation loss')\nplt.legend()\nplt.show()",
      "execution_count": null,
      "outputs": []
    },
    {
      "metadata": {
        "trusted": true,
        "_uuid": "369b416d13c9fb4c288df8e762f3e075b84b1213"
      },
      "cell_type": "code",
      "source": "model3 = models.Sequential()\nmodel3.add(layers.Conv2D(filters= 100, kernel_size=(5, 5), activation='relu', input_shape=(150, 150, 3))) #(image_height, image_width, image_channels) (not including the batch dimension).\nmodel3.add(layers.Conv2D(filters= 100, kernel_size=(5, 5), activation='relu'))\nmodel3.add(layers.MaxPooling2D((4, 4)))\nmodel3.add(layers.Flatten()) # Output_shape=(None, 3*3*64)\nmodel3.add(layers.Dropout(0.5))\nmodel3.add(layers.Dense(64, activation='relu'))\nmodel3.add(layers.Dense(10, activation='relu'))",
      "execution_count": null,
      "outputs": []
    },
    {
      "metadata": {
        "trusted": true,
        "_uuid": "3f6291d106830bd2be240b8aaab69d91c8c0a099"
      },
      "cell_type": "code",
      "source": "model3.summary()",
      "execution_count": null,
      "outputs": []
    },
    {
      "metadata": {
        "trusted": true,
        "_uuid": "e0628396f8587a92e8842cb0bbcfdc175afadbb1"
      },
      "cell_type": "code",
      "source": "model3.compile(optimizer=optimizers.RMSprop(lr=0.001, rho=0.9, epsilon=None, decay=0.0)\n, loss='mean_squared_logarithmic_error', metrics=['acc'])",
      "execution_count": null,
      "outputs": []
    },
    {
      "metadata": {
        "trusted": true,
        "_uuid": "9fc1246474f84af3975c4459d0660c6603d110d8"
      },
      "cell_type": "code",
      "source": "history3 = model3.fit_generator(\n        train_generator,\n        steps_per_epoch=(11745 // BATCH_SIZE),\n        epochs=50,\n        validation_data=val_generator,\n        validation_steps=(2066 // BATCH_SIZE) \n    )",
      "execution_count": null,
      "outputs": []
    },
    {
      "metadata": {
        "trusted": true,
        "_uuid": "0bcae59ac8f6b897c8771bcc26a2ecc6ca4a4601"
      },
      "cell_type": "code",
      "source": "acc = history3.history['acc']\nval_acc = history3.history['val_acc']\nloss = history3.history['loss']\nval_loss = history3.history['val_loss']\nepochs = range(1, len(acc) + 1)\nplt.plot(epochs, acc, 'bo', label='Training acc')\nplt.plot(epochs, val_acc, 'b', label='Validation acc')\nplt.title('Training and validation accuracy')\nplt.legend()\nplt.figure()\nplt.plot(epochs, loss, 'bo', label='Training loss')\nplt.plot(epochs, val_loss, 'b', label='Validation loss')\nplt.title('Training and validation loss')\nplt.legend()\nplt.show()",
      "execution_count": null,
      "outputs": []
    }
  ],
  "metadata": {
    "kernelspec": {
      "display_name": "Python 3",
      "language": "python",
      "name": "python3"
    },
    "language_info": {
      "name": "python",
      "version": "3.6.6",
      "mimetype": "text/x-python",
      "codemirror_mode": {
        "name": "ipython",
        "version": 3
      },
      "pygments_lexer": "ipython3",
      "nbconvert_exporter": "python",
      "file_extension": ".py"
    }
  },
  "nbformat": 4,
  "nbformat_minor": 1
}