{
  "cells": [
    {
      "metadata": {
        "_uuid": "8f2839f25d086af736a60e9eeb907d3b93b6e0e5",
        "_cell_guid": "b1076dfc-b9ad-4769-8c92-a6c4dae69d19",
        "trusted": true
      },
      "cell_type": "code",
      "source": "# This Python 3 environment comes with many helpful analytics libraries installed\n# It is defined by the kaggle/python docker image: https://github.com/kaggle/docker-python\n# For example, here's several helpful packages to load in \n\nimport numpy as np # linear algebra\nimport pandas as pd # data processing, CSV file I/O (e.g. pd.read_csv)\n\n# Input data files are available in the \"../input/\" directory.\n# For example, running this (by clicking run or pressing Shift+Enter) will list the files in the input directory\n\nimport os\nprint(os.listdir(\"../input\"))\n\n# Any results you write to the current directory are saved as output.",
      "execution_count": null,
      "outputs": []
    },
    {
      "metadata": {
        "_cell_guid": "79c7e3d0-c299-4dcb-8224-4455121ee9b0",
        "_uuid": "d629ff2d2480ee46fbb7e2d37f6b5fab8052498a",
        "trusted": true
      },
      "cell_type": "code",
      "source": "import keras\nfrom keras import layers\nfrom keras import models\nfrom keras.utils import to_categorical\nimport matplotlib.pyplot as plt\nfrom os import listdir, makedirs\nimport numpy as np\nfrom keras.preprocessing.image import ImageDataGenerator\nfrom keras.applications import ResNet50\nfrom keras.models import Sequential\nfrom keras.layers import Dense, Flatten, Dropout\nfrom keras import optimizers, regularizers\nfrom keras import losses\nfrom keras.preprocessing import image\nfrom keras.datasets import mnist\n\nimport warnings\nwarnings.filterwarnings('ignore')",
      "execution_count": null,
      "outputs": []
    },
    {
      "metadata": {
        "trusted": true,
        "_uuid": "ee6bd620263d80e008dd8b9fd01b265af398d3bf"
      },
      "cell_type": "code",
      "source": "data = pd.read_csv(\"../input/the-simpsons-characters-dataset/number_pic_char.csv\")",
      "execution_count": null,
      "outputs": []
    },
    {
      "metadata": {
        "trusted": true,
        "_uuid": "cf92df62c65cba39247d81d7df8291b76f994a43"
      },
      "cell_type": "code",
      "source": "data.head(10)",
      "execution_count": null,
      "outputs": []
    },
    {
      "metadata": {
        "trusted": true,
        "_uuid": "6d1a16ab85edeeed490146102b1ba863263e4bdc"
      },
      "cell_type": "code",
      "source": "RESOLUTION = 150\nBATCH_SIZE = 20\n\n#if you need data augmentation processing\n#train_datagen = ImageDataGenerator(\n        #rescale=1./255,\n        #shear_range=0.2,\n        #zoom_range=0.2,\n        #horizontal_flip=True,\n        #validation_split=0.3)\n\ntrain_datagen = ImageDataGenerator(rescale=1./255, validation_split=0.15)\nval_datagen = ImageDataGenerator(rescale=1./255, validation_split=0.15)\n\ntrain_generator = train_datagen.flow_from_directory(\n        \"../input/the-simpsons-characters-dataset/simpsons_dataset/simpsons_dataset\",\n        classes=['homer_simpson', 'ned_flanders', 'moe_szyslak', 'lisa_simpson', \n                 'bart_simpson', 'marge_simpson', 'krusty_the_clown', \n                 'principal_skinner', 'charles_montgomery_burns', 'milhouse_van_houten'],\n        target_size=(RESOLUTION, RESOLUTION),\n        batch_size=BATCH_SIZE,\n        class_mode='categorical', subset=\"training\")\n\nval_generator = val_datagen.flow_from_directory(\n        \"../input/the-simpsons-characters-dataset/simpsons_dataset/simpsons_dataset\",\n        classes=['homer_simpson', 'ned_flanders', 'moe_szyslak', 'lisa_simpson', \n                 'bart_simpson', 'marge_simpson', 'krusty_the_clown', \n                 'principal_skinner', 'charles_montgomery_burns', 'milhouse_van_houten'],\n        target_size=(RESOLUTION, RESOLUTION),\n        batch_size=BATCH_SIZE,\n        class_mode='categorical', subset=\"validation\")",
      "execution_count": null,
      "outputs": []
    },
    {
      "metadata": {
        "trusted": true,
        "_uuid": "af2f08e557400088de8043267022998f2190378f"
      },
      "cell_type": "code",
      "source": "path = \"../input/keras-pretrained-models/resnet50_weights_tf_dim_ordering_tf_kernels_notop.h5\"\nconv_base = ResNet50(include_top=False, input_shape=(150,150,3))",
      "execution_count": null,
      "outputs": []
    },
    {
      "metadata": {
        "trusted": true,
        "_uuid": "a3199bc200e3e4a4cbe0c309da90811c356ddd6f"
      },
      "cell_type": "code",
      "source": "def resnet50_pretrained_model(model_resnet50, dropout_=False, regularizer_=False, regularizer_weight=0.001):\n  \n    model = Sequential()\n    model.add(model_resnet50)\n    model.add(Flatten())\n    if dropout_:\n        model.add(Dropout(0.5))\n    if regularizer_:\n        model.add(Dense(256, activation='relu', \n                        kernel_regularizer=regularizers.l1_l2(l1=regularizer_weight,\n                                                            l2=regularizer_weight)))\n    else:\n        model.add(Dense(256, activation='relu'))\n    model.add(Dense(10, activation='relu'))\n    model.summary()\n    model.compile(loss='mean_squared_logarithmic_error', \n                  optimizer=optimizers.RMSprop(lr=0.001), metrics=['acc'])\n    return model",
      "execution_count": null,
      "outputs": []
    },
    {
      "metadata": {
        "trusted": true,
        "_uuid": "5583920f11533c51ea1c3937c87936c6bee9df68"
      },
      "cell_type": "code",
      "source": "model = resnet50_pretrained_model(conv_base, dropout_=False, regularizer_=False, regularizer_weight=0.001)",
      "execution_count": null,
      "outputs": []
    },
    {
      "metadata": {
        "trusted": true,
        "_uuid": "a224ca65628ef9dbac5f40444e13b3ff8ec481b0"
      },
      "cell_type": "code",
      "source": "history = model.fit_generator(\n        train_generator,\n        steps_per_epoch=(11745 // BATCH_SIZE),\n        epochs=50,\n        validation_data=val_generator,\n        validation_steps=(2066 // BATCH_SIZE) \n    )",
      "execution_count": null,
      "outputs": []
    },
    {
      "metadata": {
        "trusted": true,
        "_uuid": "27af893ce9bbb74550bf58a82ac111b99a6f55a4"
      },
      "cell_type": "code",
      "source": "acc = history.history['acc']\nval_acc = history.history['val_acc']\nloss = history.history['loss']\nval_loss = history.history['val_loss']\nepochs = range(1, len(acc) + 1)\nplt.plot(epochs, acc, 'bo', label='Training acc')\nplt.plot(epochs, val_acc, 'b', label='Validation acc')\nplt.title('Training and validation accuracy')\nplt.legend()\nplt.figure()\nplt.plot(epochs, loss, 'bo', label='Training loss')\nplt.plot(epochs, val_loss, 'b', label='Validation loss')\nplt.title('Training and validation loss')\nplt.legend()\nplt.show()",
      "execution_count": null,
      "outputs": []
    }
  ],
  "metadata": {
    "kernelspec": {
      "display_name": "Python 3",
      "language": "python",
      "name": "python3"
    },
    "language_info": {
      "name": "python",
      "version": "3.6.6",
      "mimetype": "text/x-python",
      "codemirror_mode": {
        "name": "ipython",
        "version": 3
      },
      "pygments_lexer": "ipython3",
      "nbconvert_exporter": "python",
      "file_extension": ".py"
    }
  },
  "nbformat": 4,
  "nbformat_minor": 1
}