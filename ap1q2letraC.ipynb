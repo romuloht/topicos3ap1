{
  "cells": [
    {
      "metadata": {
        "_uuid": "8f2839f25d086af736a60e9eeb907d3b93b6e0e5",
        "_cell_guid": "b1076dfc-b9ad-4769-8c92-a6c4dae69d19",
        "trusted": true
      },
      "cell_type": "code",
      "source": "# This Python 3 environment comes with many helpful analytics libraries installed\n# It is defined by the kaggle/python docker image: https://github.com/kaggle/docker-python\n# For example, here's several helpful packages to load in \n\nimport numpy as np # linear algebra\nimport pandas as pd # data processing, CSV file I/O (e.g. pd.read_csv)\n\n# Input data files are available in the \"../input/\" directory.\n# For example, running this (by clicking run or pressing Shift+Enter) will list the files in the input directory\n\nimport os\nprint(os.listdir(\"../input\"))\n\n# Any results you write to the current directory are saved as output.",
      "execution_count": null,
      "outputs": []
    },
    {
      "metadata": {
        "_cell_guid": "79c7e3d0-c299-4dcb-8224-4455121ee9b0",
        "_uuid": "d629ff2d2480ee46fbb7e2d37f6b5fab8052498a",
        "trusted": true
      },
      "cell_type": "code",
      "source": "import keras\nfrom keras import layers\nfrom keras import models\nfrom keras.utils import to_categorical\nimport matplotlib.pyplot as plt\nfrom os import listdir, makedirs\nimport numpy as np\nfrom keras.preprocessing.image import ImageDataGenerator\nfrom keras.applications import VGG16\nfrom keras.models import Sequential\nfrom keras.layers import Dense, Flatten, Dropout\nfrom keras import optimizers, regularizers\nfrom keras import losses\nfrom keras.preprocessing import image\nfrom keras.datasets import mnist\n\nimport warnings\nwarnings.filterwarnings('ignore')",
      "execution_count": null,
      "outputs": []
    },
    {
      "metadata": {
        "trusted": true,
        "_uuid": "f85b4db51b1850f95108930480c8496cc4efa2a0"
      },
      "cell_type": "code",
      "source": "data = pd.read_csv(\"../input/number_pic_char.csv\")",
      "execution_count": null,
      "outputs": []
    },
    {
      "metadata": {
        "trusted": true,
        "_uuid": "d7968a263597a00e4179cbee2ece1557ebc5948f"
      },
      "cell_type": "code",
      "source": "data.head(10)",
      "execution_count": null,
      "outputs": []
    },
    {
      "metadata": {
        "trusted": true,
        "_uuid": "f2d46f2e30e6e2dc4d1a437d06175d018a97c85f"
      },
      "cell_type": "code",
      "source": "RESOLUTION = 150\nBATCH_SIZE = 20\n\n#if you need data augmentation processing\n#train_datagen = ImageDataGenerator(\n        #rescale=1./255,\n        #shear_range=0.2,\n        #zoom_range=0.2,\n        #horizontal_flip=True,\n        #validation_split=0.3)\ntrain_datagen = ImageDataGenerator(\n                    rotation_range=40,\n                    width_shift_range=0.2,\n                    height_shift_range=0.2,\n                    shear_range=0.2,\n                    zoom_range=0.2,\n                    horizontal_flip=True,\n                    fill_mode='nearest',\n                    rescale=1./255, \n                    validation_split=0.15)\n\nval_datagen = ImageDataGenerator(\n                    rotation_range=40,\n                    width_shift_range=0.2,\n                    height_shift_range=0.2,\n                    shear_range=0.2,\n                    zoom_range=0.2,\n                    horizontal_flip=True,\n                    fill_mode='nearest',\n                    rescale=1./255, \n                    validation_split=0.15)\n\ntrain_generator = train_datagen.flow_from_directory(\n        \"../input/simpsons_dataset/simpsons_dataset\",\n        classes=['homer_simpson', 'ned_flanders', 'moe_szyslak', 'lisa_simpson', \n                 'bart_simpson', 'marge_simpson', 'krusty_the_clown', 'maggie_simpson',\n                 'principal_skinner', 'charles_montgomery_burns', 'milhouse_van_houten'],\n        target_size=(RESOLUTION, RESOLUTION),\n        batch_size=BATCH_SIZE,\n        class_mode='categorical', subset=\"training\")\n\nval_generator = val_datagen.flow_from_directory(\n        \"../input/simpsons_dataset/simpsons_dataset\",\n        classes=['homer_simpson', 'ned_flanders', 'moe_szyslak', 'lisa_simpson', \n                 'bart_simpson', 'marge_simpson', 'krusty_the_clown', 'maggie_simpson',\n                 'principal_skinner', 'charles_montgomery_burns', 'milhouse_van_houten'],\n        target_size=(RESOLUTION, RESOLUTION),\n        batch_size=BATCH_SIZE,\n        class_mode='categorical', subset=\"validation\")",
      "execution_count": null,
      "outputs": []
    },
    {
      "metadata": {
        "trusted": true,
        "_uuid": "fc99d633313604932c9524cbde59d4c197efbb05"
      },
      "cell_type": "code",
      "source": "model = models.Sequential()\nmodel.add(layers.Conv2D(filters= 100, kernel_size=(5, 5), activation='relu', input_shape=(150, 150, 3))) #(image_height, image_width, image_channels) (not including the batch dimension).\nmodel.add(layers.Conv2D(filters = 100, kernel_size=(5, 5), activation='relu'))\nmodel.add(layers.MaxPooling2D((4, 4)))\nmodel.add(layers.Flatten()) # Output_shape=(None, 3*3*64)\nmodel.add(layers.Dense(units= 64, activation='relu'))\nmodel.add(layers.Dense(units=11, activation='relu'))",
      "execution_count": null,
      "outputs": []
    },
    {
      "metadata": {
        "trusted": true,
        "_uuid": "9762859dd17f97bd7f74cc952c2fd5456eeb0109"
      },
      "cell_type": "code",
      "source": "model.summary()",
      "execution_count": null,
      "outputs": []
    },
    {
      "metadata": {
        "trusted": true,
        "_uuid": "d7b5799a723f2092a1b8bef1edac17a25e567128"
      },
      "cell_type": "code",
      "source": "model.compile(optimizer=optimizers.RMSprop(lr=0.001, rho=0.9, epsilon=None, decay=0.0)\n, loss='mean_squared_logarithmic_error', metrics=['acc'])",
      "execution_count": null,
      "outputs": []
    },
    {
      "metadata": {
        "trusted": true,
        "_uuid": "47e823d75035f571c8909cb326829b8b2a933726"
      },
      "cell_type": "code",
      "source": "history = model.fit_generator(\n        train_generator,\n        steps_per_epoch=(11854 // BATCH_SIZE),\n        epochs=50,\n        validation_data=val_generator,\n        validation_steps=(2085 // BATCH_SIZE) \n    )",
      "execution_count": null,
      "outputs": []
    },
    {
      "metadata": {
        "trusted": true,
        "_uuid": "2438a4ec4546ad41392504338fd142a7beb01253"
      },
      "cell_type": "code",
      "source": "acc = history.history['acc']\nval_acc = history.history['val_acc']\nloss = history.history['loss']\nval_loss = history.history['val_loss']\nepochs = range(1, len(acc) + 1)\nplt.plot(epochs, acc, 'bo', label='Training acc')\nplt.plot(epochs, val_acc, 'b', label='Validation acc')\nplt.title('Training and validation accuracy')\nplt.legend()\nplt.figure()\nplt.plot(epochs, loss, 'bo', label='Training loss')\nplt.plot(epochs, val_loss, 'b', label='Validation loss')\nplt.title('Training and validation loss')\nplt.legend()\nplt.show()",
      "execution_count": null,
      "outputs": []
    }
  ],
  "metadata": {
    "kernelspec": {
      "display_name": "Python 3",
      "language": "python",
      "name": "python3"
    },
    "language_info": {
      "name": "python",
      "version": "3.6.6",
      "mimetype": "text/x-python",
      "codemirror_mode": {
        "name": "ipython",
        "version": 3
      },
      "pygments_lexer": "ipython3",
      "nbconvert_exporter": "python",
      "file_extension": ".py"
    }
  },
  "nbformat": 4,
  "nbformat_minor": 1
}