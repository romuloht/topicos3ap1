{
  "cells": [
    {
      "metadata": {
        "_uuid": "8f2839f25d086af736a60e9eeb907d3b93b6e0e5",
        "_cell_guid": "b1076dfc-b9ad-4769-8c92-a6c4dae69d19",
        "trusted": true
      },
      "cell_type": "code",
      "source": "# This Python 3 environment comes with many helpful analytics libraries installed\n# It is defined by the kaggle/python docker image: https://github.com/kaggle/docker-python\n# For example, here's several helpful packages to load in \n\nimport numpy as np # linear algebra\nimport pandas as pd # data processing, CSV file I/O (e.g. pd.read_csv)\n\n# Input data files are available in the \"../input/\" directory.\n# For example, running this (by clicking run or pressing Shift+Enter) will list the files in the input directory\n\nimport os\nprint(os.listdir(\"../input\"))\n\n# Any results you write to the current directory are saved as output.",
      "execution_count": null,
      "outputs": []
    },
    {
      "metadata": {
        "trusted": true,
        "_uuid": "c9f6249b40bdca721b73e04b4937ff987fe425a4"
      },
      "cell_type": "code",
      "source": "import keras\nfrom keras import layers\nfrom keras import models\nfrom keras.utils import to_categorical\nimport matplotlib.pyplot as plt\nfrom os import listdir, makedirs\nimport numpy as np\nfrom keras.preprocessing.image import ImageDataGenerator\nfrom keras.applications import VGG16\nfrom keras.models import Sequential\nfrom keras.layers import Dense, Flatten, Dropout\nfrom keras import optimizers, regularizers\nfrom keras import losses\nfrom keras.preprocessing import image\nfrom keras.datasets import mnist\n\nimport warnings\nwarnings.filterwarnings('ignore')",
      "execution_count": null,
      "outputs": []
    },
    {
      "metadata": {
        "trusted": true,
        "_uuid": "4f2226e58de891a5267fc46adc3898342d633c38"
      },
      "cell_type": "code",
      "source": "data = pd.read_csv(\"../input/number_pic_char.csv\")",
      "execution_count": null,
      "outputs": []
    },
    {
      "metadata": {
        "trusted": true,
        "_uuid": "48c91300104ed07619a8273e5596d464d853621d"
      },
      "cell_type": "code",
      "source": "data.head(10)",
      "execution_count": null,
      "outputs": []
    },
    {
      "metadata": {
        "trusted": true,
        "_uuid": "8c684c4c44eac5b7998c93b9016c2d8491e90d7b"
      },
      "cell_type": "code",
      "source": "RESOLUTION = 150\nBATCH_SIZE = 20\n\n#if you need data augmentation processing\n#train_datagen = ImageDataGenerator(\n        #rescale=1./255,\n        #shear_range=0.2,\n        #zoom_range=0.2,\n        #horizontal_flip=True,\n        #validation_split=0.3)\n\ntrain_datagen = ImageDataGenerator(rescale=1./255, validation_split=0.85)\nval_datagen = ImageDataGenerator(rescale=1./255, validation_split=0.15)\n\ntrain_generator = train_datagen.flow_from_directory(\n        \"../input/simpsons_dataset/simpsons_dataset\",\n        classes=['homer_simpson', 'ned_flanders', 'moe_szyslak', 'lisa_simpson', \n                 'bart_simpson', 'marge_simpson', 'krusty_the_clown', \n                 'principal_skinner', 'charles_montgomery_burns', 'milhouse_van_houten'],\n        target_size=(RESOLUTION, RESOLUTION),\n        batch_size=BATCH_SIZE,\n        class_mode='categorical', subset=\"training\")\n\nval_generator = val_datagen.flow_from_directory(\n        \"../input/simpsons_dataset/simpsons_dataset\",\n        classes=['homer_simpson', 'ned_flanders', 'moe_szyslak', 'lisa_simpson', \n                 'bart_simpson', 'marge_simpson', 'krusty_the_clown', \n                 'principal_skinner', 'charles_montgomery_burns', 'milhouse_van_houten'],\n        target_size=(RESOLUTION, RESOLUTION),\n        batch_size=BATCH_SIZE,\n        class_mode='categorical', subset=\"validation\")",
      "execution_count": null,
      "outputs": []
    },
    {
      "metadata": {
        "_cell_guid": "79c7e3d0-c299-4dcb-8224-4455121ee9b0",
        "_uuid": "d629ff2d2480ee46fbb7e2d37f6b5fab8052498a",
        "trusted": true
      },
      "cell_type": "code",
      "source": "model = models.Sequential()\nmodel.add(layers.Conv2D(filters= 100, kernel_size=(5, 5), activation='relu', input_shape=(150, 150, 3))) #(image_height, image_width, image_channels) (not including the batch dimension).\nmodel.add(layers.Conv2D(filters = 100, kernel_size=(5, 5), activation='relu'))\nmodel.add(layers.MaxPooling2D((4, 4)))\nmodel.add(layers.Flatten()) # Output_shape=(None, 3*3*64)\nmodel.add(layers.Dense(units= 64, activation='relu'))\nmodel.add(layers.Dense(units=10, activation='relu'))",
      "execution_count": null,
      "outputs": []
    },
    {
      "metadata": {
        "trusted": true,
        "_uuid": "ea1b5b2726d79c90aa6358edcd128067ed5836e7"
      },
      "cell_type": "code",
      "source": "model.summary()",
      "execution_count": null,
      "outputs": []
    },
    {
      "metadata": {
        "trusted": true,
        "_uuid": "9f49b0d734db210fafb1e6b5ca5e32e4efcc58b1"
      },
      "cell_type": "code",
      "source": "model.compile(optimizer=optimizers.RMSprop(lr=0.001, rho=0.9, epsilon=None, decay=0.0)\n, loss='mean_squared_logarithmic_error', metrics=['acc'])",
      "execution_count": null,
      "outputs": []
    },
    {
      "metadata": {
        "trusted": true,
        "_uuid": "0176a83dc97b38283e29442b28da8bd059ee8aed"
      },
      "cell_type": "code",
      "source": "history1 = model.fit_generator(\n        train_generator,\n        steps_per_epoch=(2076 // BATCH_SIZE),\n        epochs=10,\n        validation_data=val_generator,\n        validation_steps=(2066 // BATCH_SIZE) \n    )",
      "execution_count": null,
      "outputs": []
    },
    {
      "metadata": {
        "trusted": true,
        "_uuid": "47f764f2129b2a1c2bd32bfc2e1d5389d9294fca"
      },
      "cell_type": "code",
      "source": "acc = history1.history['acc']\nval_acc = history1.history['val_acc']\nloss = history1.history['loss']\nval_loss = history1.history['val_loss']\nepochs = range(1, len(acc) + 1)\nplt.plot(epochs, acc, 'bo', label='Training acc')\nplt.plot(epochs, val_acc, 'b', label='Validation acc')\nplt.title('Training and validation accuracy')\nplt.legend()\nplt.figure()\nplt.plot(epochs, loss, 'bo', label='Training loss')\nplt.plot(epochs, val_loss, 'b', label='Validation loss')\nplt.title('Training and validation loss')\nplt.legend()\nplt.show()",
      "execution_count": null,
      "outputs": []
    },
    {
      "metadata": {
        "trusted": true,
        "_uuid": "6abce191c980117293a5160ecb93355a3e6a7d58"
      },
      "cell_type": "code",
      "source": "history2 = model.fit_generator(\n        train_generator,\n        steps_per_epoch=(2076 // BATCH_SIZE),\n        epochs=50,\n        validation_data=val_generator,\n        validation_steps=(2066 // BATCH_SIZE) \n    )",
      "execution_count": null,
      "outputs": []
    },
    {
      "metadata": {
        "trusted": true,
        "_uuid": "951b9536f602bdb53657a7027c4bc7d9607be29d"
      },
      "cell_type": "code",
      "source": "acc = history2.history['acc']\nval_acc = history2.history['val_acc']\nloss = history2.history['loss']\nval_loss = history2.history['val_loss']\nepochs = range(1, len(acc) + 1)\nplt.plot(epochs, acc, 'bo', label='Training acc')\nplt.plot(epochs, val_acc, 'b', label='Validation acc')\nplt.title('Training and validation accuracy')\nplt.legend()\nplt.figure()\nplt.plot(epochs, loss, 'bo', label='Training loss')\nplt.plot(epochs, val_loss, 'b', label='Validation loss')\nplt.title('Training and validation loss')\nplt.legend()\nplt.show()",
      "execution_count": null,
      "outputs": []
    },
    {
      "metadata": {
        "trusted": true,
        "_uuid": "f3b9943b9222c470af5c640ce7ef01dc7413b0f9"
      },
      "cell_type": "code",
      "source": "history3 = model.fit_generator(\n        train_generator,\n        steps_per_epoch=(2076 // BATCH_SIZE),\n        epochs=100,\n        validation_data=val_generator,\n        validation_steps=(2066 // BATCH_SIZE) \n    )",
      "execution_count": null,
      "outputs": []
    },
    {
      "metadata": {
        "trusted": true,
        "_uuid": "178bc701b64db420e3ce9f94f5576a43b93726bb"
      },
      "cell_type": "code",
      "source": "acc = history3.history['acc']\nval_acc = history3.history['val_acc']\nloss = history3.history['loss']\nval_loss = history3.history['val_loss']\nepochs = range(1, len(acc) + 1)\nplt.plot(epochs, acc, 'bo', label='Training acc')\nplt.plot(epochs, val_acc, 'b', label='Validation acc')\nplt.title('Training and validation accuracy')\nplt.legend()\nplt.figure()\nplt.plot(epochs, loss, 'bo', label='Training loss')\nplt.plot(epochs, val_loss, 'b', label='Validation loss')\nplt.title('Training and validation loss')\nplt.legend()\nplt.show()",
      "execution_count": null,
      "outputs": []
    },
    {
      "metadata": {
        "trusted": true,
        "_uuid": "a5af603ee0abc2462e560d75e55293f32607d14c"
      },
      "cell_type": "code",
      "source": "model.compile(optimizer=optimizers.RMSprop(lr=0.01, rho=0.9, epsilon=None, decay=0.0)\n, loss='mean_squared_logarithmic_error', metrics=['acc'])",
      "execution_count": null,
      "outputs": []
    },
    {
      "metadata": {
        "trusted": true,
        "_uuid": "ffebb52b6fb3e49563a8caa8535c49f24fbedbcd"
      },
      "cell_type": "code",
      "source": "history4 = model.fit_generator(\n        train_generator,\n        steps_per_epoch=(2076 // BATCH_SIZE),\n        epochs=10,\n        validation_data=val_generator,\n        validation_steps=(2066 // BATCH_SIZE) \n    )",
      "execution_count": null,
      "outputs": []
    },
    {
      "metadata": {
        "trusted": true,
        "_uuid": "eb5ef883d00466e06f3f11fd61262d4f22c8af5e"
      },
      "cell_type": "code",
      "source": "acc = history4.history['acc']\nval_acc = history4.history['val_acc']\nloss = history4.history['loss']\nval_loss = history4.history['val_loss']\nepochs = range(1, len(acc) + 1)\nplt.plot(epochs, acc, 'bo', label='Training acc')\nplt.plot(epochs, val_acc, 'b', label='Validation acc')\nplt.title('Training and validation accuracy')\nplt.legend()\nplt.figure()\nplt.plot(epochs, loss, 'bo', label='Training loss')\nplt.plot(epochs, val_loss, 'b', label='Validation loss')\nplt.title('Training and validation loss')\nplt.legend()\nplt.show()",
      "execution_count": null,
      "outputs": []
    },
    {
      "metadata": {
        "trusted": true,
        "_uuid": "e8432f43c50a64a70a83b4eb0f76b2826aa1ea64"
      },
      "cell_type": "code",
      "source": "history5 = model.fit_generator(\n        train_generator,\n        steps_per_epoch=(2076 // BATCH_SIZE),\n        epochs=50,\n        validation_data=val_generator,\n        validation_steps=(2066 // BATCH_SIZE) \n    )",
      "execution_count": null,
      "outputs": []
    },
    {
      "metadata": {
        "trusted": true,
        "_uuid": "a89eee99b69ef958eb103daf9f6b31b7c0ebe2c7"
      },
      "cell_type": "code",
      "source": "acc = history5.history['acc']\nval_acc = history5.history['val_acc']\nloss = history5.history['loss']\nval_loss = history5.history['val_loss']\nepochs = range(1, len(acc) + 1)\nplt.plot(epochs, acc, 'bo', label='Training acc')\nplt.plot(epochs, val_acc, 'b', label='Validation acc')\nplt.title('Training and validation accuracy')\nplt.legend()\nplt.figure()\nplt.plot(epochs, loss, 'bo', label='Training loss')\nplt.plot(epochs, val_loss, 'b', label='Validation loss')\nplt.title('Training and validation loss')\nplt.legend()\nplt.show()",
      "execution_count": null,
      "outputs": []
    },
    {
      "metadata": {
        "trusted": true,
        "_uuid": "339a657d539c675753b009f25fbe5bba4135a211"
      },
      "cell_type": "code",
      "source": "history6 = model.fit_generator(\n        train_generator,\n        steps_per_epoch=(2076 // BATCH_SIZE),\n        epochs=100,\n        validation_data=val_generator,\n        validation_steps=(2066 // BATCH_SIZE) \n    )",
      "execution_count": null,
      "outputs": []
    },
    {
      "metadata": {
        "trusted": true,
        "_uuid": "2cdf098ef14d9e616820079d5d4975a5f13a1736"
      },
      "cell_type": "code",
      "source": "acc = history6.history['acc']\nval_acc = history6.history['val_acc']\nloss = history6.history['loss']\nval_loss = history6.history['val_loss']\nepochs = range(1, len(acc) + 1)\nplt.plot(epochs, acc, 'bo', label='Training acc')\nplt.plot(epochs, val_acc, 'b', label='Validation acc')\nplt.title('Training and validation accuracy')\nplt.legend()\nplt.figure()\nplt.plot(epochs, loss, 'bo', label='Training loss')\nplt.plot(epochs, val_loss, 'b', label='Validation loss')\nplt.title('Training and validation loss')\nplt.legend()\nplt.show()",
      "execution_count": null,
      "outputs": []
    },
    {
      "metadata": {
        "trusted": true,
        "_uuid": "c360dceadfb03364c45738ae2e5a8d1a9d568ba5"
      },
      "cell_type": "code",
      "source": "model.compile(optimizer=optimizers.RMSprop(lr=0.1, rho=0.9, epsilon=None, decay=0.0)\n, loss='mean_squared_logarithmic_error', metrics=['acc'])",
      "execution_count": null,
      "outputs": []
    },
    {
      "metadata": {
        "trusted": true,
        "_uuid": "95bee47d304d4d87a2c4859b892d44845c91f9d4"
      },
      "cell_type": "code",
      "source": "history7 = model.fit_generator(\n        train_generator,\n        steps_per_epoch=(2076 // BATCH_SIZE),\n        epochs=10,\n        validation_data=val_generator,\n        validation_steps=(2066 // BATCH_SIZE) \n    )",
      "execution_count": null,
      "outputs": []
    },
    {
      "metadata": {
        "trusted": true,
        "_uuid": "d525b16ace4879a25bdb5c0f83b16b47c142f0a6"
      },
      "cell_type": "code",
      "source": "acc = history7.history['acc']\nval_acc = history7.history['val_acc']\nloss = history7.history['loss']\nval_loss = history7.history['val_loss']\nepochs = range(1, len(acc) + 1)\nplt.plot(epochs, acc, 'bo', label='Training acc')\nplt.plot(epochs, val_acc, 'b', label='Validation acc')\nplt.title('Training and validation accuracy')\nplt.legend()\nplt.figure()\nplt.plot(epochs, loss, 'bo', label='Training loss')\nplt.plot(epochs, val_loss, 'b', label='Validation loss')\nplt.title('Training and validation loss')\nplt.legend()\nplt.show()",
      "execution_count": null,
      "outputs": []
    },
    {
      "metadata": {
        "trusted": true,
        "_uuid": "1113d73853f6753fad4634fd7e791b2faa6c23a6"
      },
      "cell_type": "code",
      "source": "history8 = model.fit_generator(\n        train_generator,\n        steps_per_epoch=(2076 // BATCH_SIZE),\n        epochs=50,\n        validation_data=val_generator,\n        validation_steps=(2066 // BATCH_SIZE) \n    )",
      "execution_count": null,
      "outputs": []
    },
    {
      "metadata": {
        "trusted": true,
        "_uuid": "5dd43a453bdcc1b526d525e4617c840973667ab8"
      },
      "cell_type": "code",
      "source": "acc = history8.history['acc']\nval_acc = history8.history['val_acc']\nloss = history8.history['loss']\nval_loss = history8.history['val_loss']\nepochs = range(1, len(acc) + 1)\nplt.plot(epochs, acc, 'bo', label='Training acc')\nplt.plot(epochs, val_acc, 'b', label='Validation acc')\nplt.title('Training and validation accuracy')\nplt.legend()\nplt.figure()\nplt.plot(epochs, loss, 'bo', label='Training loss')\nplt.plot(epochs, val_loss, 'b', label='Validation loss')\nplt.title('Training and validation loss')\nplt.legend()\nplt.show()",
      "execution_count": null,
      "outputs": []
    },
    {
      "metadata": {
        "trusted": true,
        "_uuid": "fccd881a195cb12b12b226d62207a7fa2623a5d6"
      },
      "cell_type": "code",
      "source": "history9 = model.fit_generator(\n        train_generator,\n        steps_per_epoch=(2076 // BATCH_SIZE),\n        epochs=100,\n        validation_data=val_generator,\n        validation_steps=(2066 // BATCH_SIZE) \n    )",
      "execution_count": null,
      "outputs": []
    },
    {
      "metadata": {
        "trusted": true,
        "_uuid": "9f1bfc4a4d748e2e48e003a64fe3f8e6e067fb62"
      },
      "cell_type": "code",
      "source": "acc = history9.history['acc']\nval_acc = history9.history['val_acc']\nloss = history9.history['loss']\nval_loss = history9.history['val_loss']\nepochs = range(1, len(acc) + 1)\nplt.plot(epochs, acc, 'bo', label='Training acc')\nplt.plot(epochs, val_acc, 'b', label='Validation acc')\nplt.title('Training and validation accuracy')\nplt.legend()\nplt.figure()\nplt.plot(epochs, loss, 'bo', label='Training loss')\nplt.plot(epochs, val_loss, 'b', label='Validation loss')\nplt.title('Training and validation loss')\nplt.legend()\nplt.show()",
      "execution_count": null,
      "outputs": []
    }
  ],
  "metadata": {
    "kernelspec": {
      "display_name": "Python 3",
      "language": "python",
      "name": "python3"
    },
    "language_info": {
      "name": "python",
      "version": "3.6.6",
      "mimetype": "text/x-python",
      "codemirror_mode": {
        "name": "ipython",
        "version": 3
      },
      "pygments_lexer": "ipython3",
      "nbconvert_exporter": "python",
      "file_extension": ".py"
    }
  },
  "nbformat": 4,
  "nbformat_minor": 1
}